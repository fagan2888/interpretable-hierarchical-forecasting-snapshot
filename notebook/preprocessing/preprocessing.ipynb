{
 "cells": [
  {
   "cell_type": "markdown",
   "metadata": {},
   "source": [
    " # Preprocessing of Delay Data for Covid19"
   ]
  },
  {
   "cell_type": "markdown",
   "metadata": {},
   "source": [
    " ## Imports"
   ]
  },
  {
   "cell_type": "code",
   "execution_count": null,
   "metadata": {},
   "outputs": [],
   "source": [
    "import pandas as pd\n",
    "import numpy as np\n",
    "import seaborn as sns\n",
    "\n",
    "import logging"
   ]
  },
  {
   "cell_type": "markdown",
   "metadata": {},
   "source": [
    " ## Data Loading"
   ]
  },
  {
   "cell_type": "code",
   "execution_count": null,
   "metadata": {},
   "outputs": [],
   "source": [
    "logger = logging.getLogger(name=\"PREPROCESSING\")\n",
    "logging.basicConfig()\n",
    "logger.setLevel(logging.INFO)"
   ]
  },
  {
   "cell_type": "code",
   "execution_count": null,
   "metadata": {},
   "outputs": [],
   "source": [
    "suffix = \"2020-05-06\"\n",
    "\n",
    "logger.info(\"Reading file.\")\n",
    "covid = pd.read_csv(\n",
    "    f\"../../data/raw/covid_{suffix}.csv\",\n",
    "    sep=\",\",\n",
    "    encoding=\"ISO-8859-1\",\n",
    "    low_memory=False,\n",
    ")"
   ]
  },
  {
   "cell_type": "markdown",
   "metadata": {},
   "source": [
    " ## Preprocessing"
   ]
  },
  {
   "cell_type": "code",
   "execution_count": null,
   "metadata": {},
   "outputs": [],
   "source": [
    "# Manually fix some errors\n",
    "logger.info(\"Manually fixing data input errors.\")\n",
    "\n",
    "covid.loc[covid.query(\"Id==23107834\").index, \"Meldedatum\"] = \"2020-04-07\""
   ]
  },
  {
   "cell_type": "code",
   "execution_count": null,
   "metadata": {},
   "outputs": [],
   "source": [
    "logger.info(\"Converting all date columns to datetime format.\")\n",
    "datecols = [\n",
    "    \"Erkrankungsbeginn\",\n",
    "    \"Meldedatum\",\n",
    "    \"DatumEingangRKI1\",\n",
    "    \"DatumIstFall\",\n",
    "]  # select all columns featuring a date\n",
    "for col in datecols:\n",
    "    covid[col] = pd.to_datetime(covid[col])"
   ]
  },
  {
   "cell_type": "code",
   "execution_count": null,
   "metadata": {},
   "outputs": [],
   "source": [
    "logger.info(\"Performing subselection of columns.\")\n",
    "delay = covid[\n",
    "    [\"Erkrankungsbeginn\", \"Meldedatum\", \"DatumEingangRKI1\", \"DatumIstFall\"]\n",
    "    + [\n",
    "        \"MeldeLandkreis\",\n",
    "        \"MeldeLandkreisBundesland\",\n",
    "        \"AlterBerechnet\",\n",
    "        \"Altersgruppe1\",\n",
    "        \"Altersgruppe2\",\n",
    "        \"Geschlecht\",\n",
    "    ]\n",
    "].sort_values(\"DatumIstFall\")"
   ]
  },
  {
   "cell_type": "markdown",
   "metadata": {},
   "source": [
    " ## Checking Missing Value"
   ]
  },
  {
   "cell_type": "markdown",
   "metadata": {},
   "source": [
    " ### Place"
   ]
  },
  {
   "cell_type": "code",
   "execution_count": null,
   "metadata": {},
   "outputs": [],
   "source": [
    "print(\"\")\n",
    "print(\"Null values for Landkreis: \" + str(delay[\"MeldeLandkreis\"].isnull().sum()))\n",
    "print(\n",
    "    \"Null values for Bundesland: \"\n",
    "    + str(delay[\"MeldeLandkreisBundesland\"].isnull().sum())\n",
    ")"
   ]
  },
  {
   "cell_type": "markdown",
   "metadata": {},
   "source": [
    " ### Age"
   ]
  },
  {
   "cell_type": "code",
   "execution_count": null,
   "metadata": {},
   "outputs": [],
   "source": [
    "print(\"Null values for AlterBerechnet: \" + str(delay[\"AlterBerechnet\"].isnull().sum()))\n",
    "print(\"Null values for Altersgruppe1: \" + str(delay[\"Altersgruppe1\"].isnull().sum()))\n",
    "print(\"Null values for Altersgruppe2: \" + str(delay[\"Altersgruppe2\"].isnull().sum()))\n",
    "# --> The age columns are fine, no null values."
   ]
  },
  {
   "cell_type": "markdown",
   "metadata": {},
   "source": [
    " ### Gender"
   ]
  },
  {
   "cell_type": "code",
   "execution_count": null,
   "metadata": {},
   "outputs": [],
   "source": [
    "print(\"\\nGender value counts:\")\n",
    "print(delay[\"Geschlecht\"].value_counts(dropna=False))\n",
    "\n",
    "print(\"\")"
   ]
  },
  {
   "cell_type": "code",
   "execution_count": null,
   "metadata": {},
   "outputs": [],
   "source": [
    "logger.info(\"Renaming and selecting columns.\")\n",
    "mapping = {\n",
    "    \"Erkrankungsbeginn\": \"date_onset\",\n",
    "    \"Meldedatum\": \"date_report\",\n",
    "    \"DatumEingangRKI1\": \"date_report_rki\",\n",
    "    \"DatumIstFall\": \"date_confirmation\",\n",
    "    \"MeldeLandkreis\": \"county\",\n",
    "    \"MeldeLandkreisBundesland\": \"state\",\n",
    "    \"AlterBerechnet\": \"age\",\n",
    "    \"Altersgruppe1\": \"age_group1\",\n",
    "    \"Altersgruppe2\": \"age_group2\",\n",
    "    \"Geschlecht\": \"gender\",\n",
    "}\n",
    "delay = delay.rename(columns=mapping)[mapping.values()]"
   ]
  },
  {
   "cell_type": "code",
   "execution_count": null,
   "metadata": {},
   "outputs": [],
   "source": [
    "logger.info(\"Renaming column values.\")\n",
    "delay[\"gender\"] = delay[\"gender\"].replace(\n",
    "    {\n",
    "        \"männlich\": \"male\",\n",
    "        \"weiblich\": \"female\",\n",
    "        \"divers\": \"diverse\",\n",
    "        \"-nicht ermittelbar-\": \"undeterminable\",\n",
    "        \"-nicht erhoben-\": \"unknown\",\n",
    "    }\n",
    ")"
   ]
  },
  {
   "cell_type": "code",
   "execution_count": null,
   "metadata": {},
   "outputs": [],
   "source": [
    "logger.info(\"Adding derived values.\")\n",
    "\n",
    "datecols = [\n",
    "    x for x in delay.columns if \"date\" in x.lower()\n",
    "]  # select all columns featuring a date\n",
    "\n",
    "# Add days since 2020-01-01 for all date columns\n",
    "for col in datecols:\n",
    "    delay[col.replace(\"date\", \"day\")] = (\n",
    "        delay[col] - pd.to_datetime(\"2020-01-01\")\n",
    "    ).dt.days\n",
    "\n",
    "# Add calender week for all date columns\n",
    "for col in datecols:\n",
    "    delay[col.replace(\"date\", \"week\")] = delay[col].dt.week\n",
    "\n",
    "# Add day of the week for all date columns\n",
    "def as_ordered_weekday(col):\n",
    "    return col.astype(pd.CategoricalDtype(ordered=True)).cat.reorder_categories(\n",
    "        [\"Monday\", \"Tuesday\", \"Wednesday\", \"Thursday\", \"Friday\", \"Saturday\", \"Sunday\"],\n",
    "        ordered=True,\n",
    "    )\n",
    "\n",
    "\n",
    "for col in datecols:\n",
    "    delay[col.replace(\"date\", \"weekday\")] = as_ordered_weekday(delay[col].dt.day_name())\n",
    "\n",
    "# Add reporting delays\n",
    "delay[\"reporting_delay_hd\"] = (\n",
    "    delay[\"day_report\"] - delay[\"day_onset\"]\n",
    ")  # reporting delay health department\n",
    "delay[\"reporting_delay_rki\"] = (\n",
    "    delay[\"day_confirmation\"] - delay[\"day_onset\"]\n",
    ")  # reporting delay rki"
   ]
  },
  {
   "cell_type": "code",
   "execution_count": null,
   "metadata": {},
   "outputs": [],
   "source": [
    "logger.info(\"Exporting delay data to CSV.\")\n",
    "delay.to_csv(f\"../../data/processed/delay_{suffix}.csv\", index=False)\n",
    "\n",
    "logger.info(\"Exporting delay data to pickle file.\")\n",
    "delay.to_pickle(f\"../../data/processed/delay_{suffix}.pl\")"
   ]
  }
 ],
 "metadata": {
  "kernelspec": {
   "display_name": "Python 3",
   "language": "python",
   "name": "python3"
  },
  "language_info": {
   "codemirror_mode": {
    "name": "ipython",
    "version": 3
   },
   "file_extension": ".py",
   "mimetype": "text/x-python",
   "name": "python",
   "nbconvert_exporter": "python",
   "pygments_lexer": "ipython3",
   "version": "3.7.4"
  }
 },
 "nbformat": 4,
 "nbformat_minor": 2
}
