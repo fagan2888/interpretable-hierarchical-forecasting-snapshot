{
 "cells": [
  {
   "cell_type": "markdown",
   "metadata": {},
   "source": [
    "# MAR Analysis of Missing Value of Disease Onset Date"
   ]
  },
  {
   "cell_type": "markdown",
   "metadata": {},
   "source": [
    "## Imports and Settings"
   ]
  },
  {
   "cell_type": "code",
   "execution_count": 1,
   "metadata": {},
   "outputs": [],
   "source": [
    "import pandas as pd\n",
    "import numpy as np"
   ]
  },
  {
   "cell_type": "code",
   "execution_count": 2,
   "metadata": {},
   "outputs": [],
   "source": [
    "pd.set_option('display.max_rows', 100)\n",
    "pd.set_option('display.max_columns', 100)"
   ]
  },
  {
   "cell_type": "code",
   "execution_count": 3,
   "metadata": {},
   "outputs": [],
   "source": [
    "import plotly.io as pio\n",
    "pio.renderers.default = \"svg\""
   ]
  },
  {
   "cell_type": "code",
   "execution_count": 4,
   "metadata": {},
   "outputs": [],
   "source": [
    "from sklearn.preprocessing import OneHotEncoder\n",
    "\n",
    "from sklearn.dummy import DummyClassifier\n",
    "from sklearn.linear_model import LogisticRegression\n",
    "from sklearn.tree import DecisionTreeClassifier\n",
    "from sklearn.ensemble import RandomForestClassifier\n",
    "from sklearn.neighbors import KNeighborsClassifier\n",
    "from sklearn.svm import SVC\n",
    "\n",
    "from sklearn.model_selection import cross_validate"
   ]
  },
  {
   "cell_type": "markdown",
   "metadata": {},
   "source": [
    "## Data Loading and Preparation"
   ]
  },
  {
   "cell_type": "code",
   "execution_count": 5,
   "metadata": {},
   "outputs": [],
   "source": [
    "delay = pd.read_pickle(\"../../data/processed/delay_2020-04-15.pl\")"
   ]
  },
  {
   "cell_type": "markdown",
   "metadata": {},
   "source": [
    "#### Summarize all observations which do not have known or binary gender"
   ]
  },
  {
   "cell_type": "code",
   "execution_count": 6,
   "metadata": {},
   "outputs": [],
   "source": [
    "delay.loc[(delay[\"gender\"]!=\"male\") & (delay[\"gender\"]!=\"female\"),\"gender\"] = \"other\""
   ]
  },
  {
   "cell_type": "markdown",
   "metadata": {},
   "source": [
    "#### Remove observations with negative reporting delay"
   ]
  },
  {
   "cell_type": "code",
   "execution_count": 7,
   "metadata": {},
   "outputs": [],
   "source": [
    "delay = delay[(delay[\"reporting_delay_hd\"]>=0) | (delay[\"reporting_delay_hd\"].isnull())]"
   ]
  },
  {
   "cell_type": "markdown",
   "metadata": {},
   "source": [
    "#### One-Hot Encoding (Dummy Variables)"
   ]
  },
  {
   "cell_type": "code",
   "execution_count": 8,
   "metadata": {},
   "outputs": [],
   "source": [
    "def to_dummy(X):\n",
    "    enc = OneHotEncoder(handle_unknown='error',sparse=False,drop=\"first\")\n",
    "    X_cat = X.select_dtypes(include=[object,\"category\"])\n",
    "    X_num = X.select_dtypes(exclude=[object,\"category\"])\n",
    "    X_trans = pd.DataFrame(enc.fit_transform(X_cat),columns=enc.get_feature_names(X_cat.columns),index=X.index)\n",
    "    X_dummy = pd.concat([X_num,X_trans],axis=1)\n",
    "    return X_dummy, enc, X_cat.columns\n",
    "\n",
    "def from_dummy(X, enc, cat_columns):\n",
    "    X_trans = X[enc.get_feature_names(cat_columns)]\n",
    "    X_num = X.drop(enc.get_feature_names(cat_columns),axis=1)\n",
    "    X_cat = pd.DataFrame(enc.inverse_transform(X_trans),columns=cat_columns,index=X.index)\n",
    "    X_res = pd.concat([X_num,X_cat],axis=1)\n",
    "    return X_res"
   ]
  },
  {
   "cell_type": "code",
   "execution_count": 9,
   "metadata": {},
   "outputs": [
    {
     "data": {
      "text/plain": [
       "week_report       0\n",
       "weekday_report    0\n",
       "age               0\n",
       "gender            0\n",
       "state             0\n",
       "dtype: int64"
      ]
     },
     "execution_count": 9,
     "metadata": {},
     "output_type": "execute_result"
    }
   ],
   "source": [
    "delay_labels = [\"week_report\",\"weekday_report\",\"age\",\"gender\",\"state\"]\n",
    "delay[delay_labels].isnull().sum()"
   ]
  },
  {
   "cell_type": "code",
   "execution_count": 10,
   "metadata": {},
   "outputs": [],
   "source": [
    "delay_dummy, enc, enc_cats = to_dummy(delay[delay_labels])\n",
    "y = delay[\"reporting_delay_hd\"].isnull()"
   ]
  },
  {
   "cell_type": "markdown",
   "metadata": {},
   "source": [
    "## Predict Missingness\n",
    "The approach to invalidate the *Missing at Random (MAR) - Hypothesis* is to try to predict missingness using a regression model. If that is possible with decent performance, there must be a bias in the covariates."
   ]
  },
  {
   "cell_type": "code",
   "execution_count": 11,
   "metadata": {},
   "outputs": [],
   "source": [
    "models = {\"dummy\": DummyClassifier(strategy=\"stratified\"),\n",
    "          \"knn\": KNeighborsClassifier(3),\n",
    "          \"decision_tree\": DecisionTreeClassifier(max_depth=20,class_weight=\"balanced\"),\n",
    "         \"random forest\":  RandomForestClassifier(max_depth=5, n_estimators=10, max_features=1)}\n",
    "scorings = [\"accuracy\",\"precision\",\"recall\",\"f1\"]"
   ]
  },
  {
   "cell_type": "markdown",
   "metadata": {},
   "source": [
    "#### Test prediction of missingness using other features"
   ]
  },
  {
   "cell_type": "code",
   "execution_count": 12,
   "metadata": {},
   "outputs": [
    {
     "data": {
      "text/html": [
       "<div>\n",
       "<style scoped>\n",
       "    .dataframe tbody tr th:only-of-type {\n",
       "        vertical-align: middle;\n",
       "    }\n",
       "\n",
       "    .dataframe tbody tr th {\n",
       "        vertical-align: top;\n",
       "    }\n",
       "\n",
       "    .dataframe thead th {\n",
       "        text-align: right;\n",
       "    }\n",
       "</style>\n",
       "<table border=\"1\" class=\"dataframe\">\n",
       "  <thead>\n",
       "    <tr style=\"text-align: right;\">\n",
       "      <th></th>\n",
       "      <th>fit_time</th>\n",
       "      <th>score_time</th>\n",
       "      <th>test_accuracy</th>\n",
       "      <th>test_precision</th>\n",
       "      <th>test_recall</th>\n",
       "      <th>test_f1</th>\n",
       "    </tr>\n",
       "    <tr>\n",
       "      <th>model</th>\n",
       "      <th></th>\n",
       "      <th></th>\n",
       "      <th></th>\n",
       "      <th></th>\n",
       "      <th></th>\n",
       "      <th></th>\n",
       "    </tr>\n",
       "  </thead>\n",
       "  <tbody>\n",
       "    <tr>\n",
       "      <td>decision_tree</td>\n",
       "      <td>0.357294</td>\n",
       "      <td>0.063645</td>\n",
       "      <td>0.404876</td>\n",
       "      <td>0.275545</td>\n",
       "      <td>0.383955</td>\n",
       "      <td>0.309430</td>\n",
       "    </tr>\n",
       "    <tr>\n",
       "      <td>dummy</td>\n",
       "      <td>0.018222</td>\n",
       "      <td>0.025961</td>\n",
       "      <td>0.532913</td>\n",
       "      <td>0.373816</td>\n",
       "      <td>0.368883</td>\n",
       "      <td>0.370462</td>\n",
       "    </tr>\n",
       "    <tr>\n",
       "      <td>knn</td>\n",
       "      <td>0.498161</td>\n",
       "      <td>16.393009</td>\n",
       "      <td>0.468879</td>\n",
       "      <td>0.296306</td>\n",
       "      <td>0.320030</td>\n",
       "      <td>0.289525</td>\n",
       "    </tr>\n",
       "    <tr>\n",
       "      <td>random forest</td>\n",
       "      <td>0.233185</td>\n",
       "      <td>0.110303</td>\n",
       "      <td>0.597308</td>\n",
       "      <td>0.551102</td>\n",
       "      <td>0.144023</td>\n",
       "      <td>0.101983</td>\n",
       "    </tr>\n",
       "  </tbody>\n",
       "</table>\n",
       "</div>"
      ],
      "text/plain": [
       "               fit_time  score_time  test_accuracy  test_precision  \\\n",
       "model                                                                \n",
       "decision_tree  0.357294    0.063645       0.404876        0.275545   \n",
       "dummy          0.018222    0.025961       0.532913        0.373816   \n",
       "knn            0.498161   16.393009       0.468879        0.296306   \n",
       "random forest  0.233185    0.110303       0.597308        0.551102   \n",
       "\n",
       "               test_recall   test_f1  \n",
       "model                                 \n",
       "decision_tree     0.383955  0.309430  \n",
       "dummy             0.368883  0.370462  \n",
       "knn               0.320030  0.289525  \n",
       "random forest     0.144023  0.101983  "
      ]
     },
     "execution_count": 12,
     "metadata": {},
     "output_type": "execute_result"
    }
   ],
   "source": [
    "cv_results = pd.concat([pd.DataFrame(cross_validate(model, delay_dummy, y, scoring=scorings, cv=5)).assign(model=modelname) for modelname, model in models.items()])\n",
    "cv_results.groupby(\"model\").mean()"
   ]
  },
  {
   "cell_type": "markdown",
   "metadata": {},
   "source": [
    "#### Test prediction of missingness using randomly permuted features (zero information)"
   ]
  },
  {
   "cell_type": "code",
   "execution_count": 13,
   "metadata": {},
   "outputs": [],
   "source": [
    "delay_dummy_shuffled = delay_dummy.copy()\n",
    "for c in delay_dummy_shuffled.columns:\n",
    "    delay_dummy_shuffled[c] = delay_dummy_shuffled.loc[np.random.permutation(delay_dummy_shuffled.index),c].to_numpy()"
   ]
  },
  {
   "cell_type": "code",
   "execution_count": 14,
   "metadata": {},
   "outputs": [
    {
     "name": "stderr",
     "output_type": "stream",
     "text": [
      "C:\\Users\\User\\Anaconda3\\lib\\site-packages\\sklearn\\metrics\\classification.py:1437: UndefinedMetricWarning:\n",
      "\n",
      "Precision is ill-defined and being set to 0.0 due to no predicted samples.\n",
      "\n",
      "C:\\Users\\User\\Anaconda3\\lib\\site-packages\\sklearn\\metrics\\classification.py:1437: UndefinedMetricWarning:\n",
      "\n",
      "F-score is ill-defined and being set to 0.0 due to no predicted samples.\n",
      "\n",
      "C:\\Users\\User\\Anaconda3\\lib\\site-packages\\sklearn\\metrics\\classification.py:1437: UndefinedMetricWarning:\n",
      "\n",
      "Precision is ill-defined and being set to 0.0 due to no predicted samples.\n",
      "\n",
      "C:\\Users\\User\\Anaconda3\\lib\\site-packages\\sklearn\\metrics\\classification.py:1437: UndefinedMetricWarning:\n",
      "\n",
      "F-score is ill-defined and being set to 0.0 due to no predicted samples.\n",
      "\n",
      "C:\\Users\\User\\Anaconda3\\lib\\site-packages\\sklearn\\metrics\\classification.py:1437: UndefinedMetricWarning:\n",
      "\n",
      "Precision is ill-defined and being set to 0.0 due to no predicted samples.\n",
      "\n",
      "C:\\Users\\User\\Anaconda3\\lib\\site-packages\\sklearn\\metrics\\classification.py:1437: UndefinedMetricWarning:\n",
      "\n",
      "F-score is ill-defined and being set to 0.0 due to no predicted samples.\n",
      "\n"
     ]
    },
    {
     "data": {
      "text/html": [
       "<div>\n",
       "<style scoped>\n",
       "    .dataframe tbody tr th:only-of-type {\n",
       "        vertical-align: middle;\n",
       "    }\n",
       "\n",
       "    .dataframe tbody tr th {\n",
       "        vertical-align: top;\n",
       "    }\n",
       "\n",
       "    .dataframe thead th {\n",
       "        text-align: right;\n",
       "    }\n",
       "</style>\n",
       "<table border=\"1\" class=\"dataframe\">\n",
       "  <thead>\n",
       "    <tr style=\"text-align: right;\">\n",
       "      <th></th>\n",
       "      <th>fit_time</th>\n",
       "      <th>score_time</th>\n",
       "      <th>test_accuracy</th>\n",
       "      <th>test_precision</th>\n",
       "      <th>test_recall</th>\n",
       "      <th>test_f1</th>\n",
       "    </tr>\n",
       "    <tr>\n",
       "      <th>model</th>\n",
       "      <th></th>\n",
       "      <th></th>\n",
       "      <th></th>\n",
       "      <th></th>\n",
       "      <th></th>\n",
       "      <th></th>\n",
       "    </tr>\n",
       "  </thead>\n",
       "  <tbody>\n",
       "    <tr>\n",
       "      <td>decision_tree</td>\n",
       "      <td>0.528786</td>\n",
       "      <td>0.069761</td>\n",
       "      <td>0.506701</td>\n",
       "      <td>0.371500</td>\n",
       "      <td>0.471451</td>\n",
       "      <td>0.415190</td>\n",
       "    </tr>\n",
       "    <tr>\n",
       "      <td>dummy</td>\n",
       "      <td>0.017959</td>\n",
       "      <td>0.026329</td>\n",
       "      <td>0.532245</td>\n",
       "      <td>0.374252</td>\n",
       "      <td>0.373681</td>\n",
       "      <td>0.371163</td>\n",
       "    </tr>\n",
       "    <tr>\n",
       "      <td>knn</td>\n",
       "      <td>0.384419</td>\n",
       "      <td>23.098028</td>\n",
       "      <td>0.548698</td>\n",
       "      <td>0.370895</td>\n",
       "      <td>0.305993</td>\n",
       "      <td>0.335324</td>\n",
       "    </tr>\n",
       "    <tr>\n",
       "      <td>random forest</td>\n",
       "      <td>0.258765</td>\n",
       "      <td>0.116082</td>\n",
       "      <td>0.627949</td>\n",
       "      <td>0.000000</td>\n",
       "      <td>0.000000</td>\n",
       "      <td>0.000000</td>\n",
       "    </tr>\n",
       "  </tbody>\n",
       "</table>\n",
       "</div>"
      ],
      "text/plain": [
       "               fit_time  score_time  test_accuracy  test_precision  \\\n",
       "model                                                                \n",
       "decision_tree  0.528786    0.069761       0.506701        0.371500   \n",
       "dummy          0.017959    0.026329       0.532245        0.374252   \n",
       "knn            0.384419   23.098028       0.548698        0.370895   \n",
       "random forest  0.258765    0.116082       0.627949        0.000000   \n",
       "\n",
       "               test_recall   test_f1  \n",
       "model                                 \n",
       "decision_tree     0.471451  0.415190  \n",
       "dummy             0.373681  0.371163  \n",
       "knn               0.305993  0.335324  \n",
       "random forest     0.000000  0.000000  "
      ]
     },
     "execution_count": 14,
     "metadata": {},
     "output_type": "execute_result"
    }
   ],
   "source": [
    "cv_results_shuffled = pd.concat([pd.DataFrame(cross_validate(model, delay_dummy_shuffled, y, scoring=scorings, cv=5)).assign(model=modelname) for modelname, model in models.items()])\n",
    "cv_results_shuffled.groupby(\"model\").mean()"
   ]
  },
  {
   "cell_type": "markdown",
   "metadata": {},
   "source": [
    "### Preliminary Conclusion\n",
    "The extremely weak results of classification attempts for missing values (dummy models without variable usage perform on par, performance scores with randomly permuted features are not worse) of the reported onset date indicate that the other covariates are not clearly related to the missingness. This does not imply that (a fraction of) the data may be missing with other patterns. Nevertheless, it can be rather savely assumed that there is no strong relationship between the other variables and the missingness of the date of disease onset."
   ]
  },
  {
   "cell_type": "markdown",
   "metadata": {},
   "source": [
    "### Deprecated code"
   ]
  },
  {
   "cell_type": "markdown",
   "metadata": {},
   "source": [
    "#### Logistic Regression with Scikit-Learn"
   ]
  },
  {
   "cell_type": "code",
   "execution_count": 40,
   "metadata": {},
   "outputs": [],
   "source": [
    "from sklearn.linear_model import LogisticRegression"
   ]
  },
  {
   "cell_type": "code",
   "execution_count": 43,
   "metadata": {},
   "outputs": [],
   "source": [
    "cl_miss = LogisticRegression(random_state=0,solver=\"lbfgs\",max_iter=400).fit(X_dummy, y)"
   ]
  },
  {
   "cell_type": "code",
   "execution_count": 44,
   "metadata": {},
   "outputs": [
    {
     "data": {
      "text/plain": [
       "day_confirmation                0.062841\n",
       "age                             0.005044\n",
       "gender_weiblich                 0.013231\n",
       "state_Bayern                    0.685387\n",
       "state_Berlin                   -0.693047\n",
       "state_Brandenburg              -0.861278\n",
       "state_Bremen                   -0.630790\n",
       "state_Hamburg                   0.337778\n",
       "state_Hessen                   -0.377047\n",
       "state_Mecklenburg-Vorpommern   -0.328505\n",
       "state_Niedersachsen            -0.087093\n",
       "state_Nordrhein-Westfalen      -0.213614\n",
       "state_Rheinland-Pfalz           0.302931\n",
       "state_Saarland                  0.490397\n",
       "state_Sachsen                   0.418214\n",
       "state_Sachsen-Anhalt           -0.752184\n",
       "state_Schleswig-Holstein       -0.597713\n",
       "state_Thüringen                -1.294836\n",
       "dtype: float64"
      ]
     },
     "execution_count": 44,
     "metadata": {},
     "output_type": "execute_result"
    }
   ],
   "source": [
    "pd.Series(cl_miss.coef_[0],index=X_dummy.columns)"
   ]
  },
  {
   "cell_type": "markdown",
   "metadata": {},
   "source": [
    "#### Classification with Decision Tree"
   ]
  },
  {
   "cell_type": "code",
   "execution_count": 1,
   "metadata": {},
   "outputs": [],
   "source": [
    "from sklearn import tree\n",
    "from sklearn.model_selection import cross_validate"
   ]
  },
  {
   "cell_type": "code",
   "execution_count": 2,
   "metadata": {},
   "outputs": [
    {
     "ename": "NameError",
     "evalue": "name 'X_dummy' is not defined",
     "output_type": "error",
     "traceback": [
      "\u001b[1;31m---------------------------------------------------------------------------\u001b[0m",
      "\u001b[1;31mNameError\u001b[0m                                 Traceback (most recent call last)",
      "\u001b[1;32m<ipython-input-2-c127076dbf5b>\u001b[0m in \u001b[0;36m<module>\u001b[1;34m\u001b[0m\n\u001b[1;32m----> 1\u001b[1;33m \u001b[0mindx\u001b[0m \u001b[1;33m=\u001b[0m \u001b[0mX_dummy\u001b[0m\u001b[1;33m.\u001b[0m\u001b[0msample\u001b[0m\u001b[1;33m(\u001b[0m\u001b[0mfrac\u001b[0m\u001b[1;33m=\u001b[0m\u001b[1;36m1\u001b[0m\u001b[1;33m)\u001b[0m\u001b[1;33m.\u001b[0m\u001b[0mindex\u001b[0m\u001b[1;33m\u001b[0m\u001b[1;33m\u001b[0m\u001b[0m\n\u001b[0m\u001b[0;32m      2\u001b[0m \u001b[0mscorings\u001b[0m \u001b[1;33m=\u001b[0m \u001b[1;33m[\u001b[0m\u001b[1;34m\"accuracy\"\u001b[0m\u001b[1;33m,\u001b[0m\u001b[1;34m\"precision\"\u001b[0m\u001b[1;33m,\u001b[0m\u001b[1;34m\"recall\"\u001b[0m\u001b[1;33m,\u001b[0m\u001b[1;34m\"f1\"\u001b[0m\u001b[1;33m]\u001b[0m\u001b[1;33m\u001b[0m\u001b[1;33m\u001b[0m\u001b[0m\n\u001b[0;32m      3\u001b[0m \u001b[0mlearner\u001b[0m \u001b[1;33m=\u001b[0m \u001b[0mtree\u001b[0m\u001b[1;33m.\u001b[0m\u001b[0mDecisionTreeClassifier\u001b[0m\u001b[1;33m(\u001b[0m\u001b[0mmax_depth\u001b[0m\u001b[1;33m=\u001b[0m\u001b[1;36m20\u001b[0m\u001b[1;33m,\u001b[0m\u001b[0mclass_weight\u001b[0m\u001b[1;33m=\u001b[0m\u001b[1;34m\"balanced\"\u001b[0m\u001b[1;33m)\u001b[0m\u001b[1;33m\u001b[0m\u001b[1;33m\u001b[0m\u001b[0m\n\u001b[0;32m      4\u001b[0m \u001b[0mcv_generator\u001b[0m \u001b[1;33m=\u001b[0m \u001b[0mRepeatedKFold\u001b[0m\u001b[1;33m(\u001b[0m\u001b[0mn_splits\u001b[0m\u001b[1;33m=\u001b[0m\u001b[1;36m2\u001b[0m\u001b[1;33m,\u001b[0m \u001b[0mn_repeats\u001b[0m\u001b[1;33m=\u001b[0m\u001b[1;36m2\u001b[0m\u001b[1;33m)\u001b[0m\u001b[1;33m\u001b[0m\u001b[1;33m\u001b[0m\u001b[0m\n\u001b[0;32m      5\u001b[0m \u001b[0mpd\u001b[0m\u001b[1;33m.\u001b[0m\u001b[0mDataFrame\u001b[0m\u001b[1;33m(\u001b[0m\u001b[0mcross_validate\u001b[0m\u001b[1;33m(\u001b[0m\u001b[0mlearner\u001b[0m\u001b[1;33m,\u001b[0m \u001b[0mX_dummy\u001b[0m\u001b[1;33m.\u001b[0m\u001b[0mloc\u001b[0m\u001b[1;33m[\u001b[0m\u001b[0mindx\u001b[0m\u001b[1;33m,\u001b[0m\u001b[1;33m]\u001b[0m\u001b[1;33m,\u001b[0m \u001b[0my\u001b[0m\u001b[1;33m[\u001b[0m\u001b[0mindx\u001b[0m\u001b[1;33m]\u001b[0m\u001b[1;33m,\u001b[0m \u001b[0mscoring\u001b[0m\u001b[1;33m=\u001b[0m\u001b[0mscorings\u001b[0m\u001b[1;33m,\u001b[0m \u001b[0mcv\u001b[0m\u001b[1;33m=\u001b[0m\u001b[0mcv_generator\u001b[0m\u001b[1;33m)\u001b[0m\u001b[1;33m)\u001b[0m\u001b[1;33m\u001b[0m\u001b[1;33m\u001b[0m\u001b[0m\n",
      "\u001b[1;31mNameError\u001b[0m: name 'X_dummy' is not defined"
     ]
    }
   ],
   "source": [
    "indx = X_dummy.sample(frac=1).index\n",
    "scorings = [\"accuracy\",\"precision\",\"recall\",\"f1\"]\n",
    "learner = tree.DecisionTreeClassifier(max_depth=20,class_weight=\"balanced\")\n",
    "pd.DataFrame(cross_validate(learner, delay_dummy.loc[indx,], y[indx], scoring=scorings, cv=5))"
   ]
  },
  {
   "cell_type": "code",
   "execution_count": 49,
   "metadata": {},
   "outputs": [],
   "source": [
    "clf = tree.DecisionTreeClassifier(max_depth=20,class_weight=\"balanced\")\n",
    "clf = clf.fit(delay_dummy, y)"
   ]
  },
  {
   "cell_type": "code",
   "execution_count": 50,
   "metadata": {},
   "outputs": [
    {
     "data": {
      "text/plain": [
       "day_confirmation                0.400150\n",
       "age                             0.333005\n",
       "gender_weiblich                 0.055167\n",
       "state_Bayern                    0.117242\n",
       "state_Berlin                    0.010718\n",
       "state_Brandenburg               0.007122\n",
       "state_Bremen                    0.002300\n",
       "state_Hamburg                   0.006560\n",
       "state_Hessen                    0.007047\n",
       "state_Mecklenburg-Vorpommern    0.002075\n",
       "state_Niedersachsen             0.005000\n",
       "state_Nordrhein-Westfalen       0.011956\n",
       "state_Rheinland-Pfalz           0.011745\n",
       "state_Saarland                  0.005394\n",
       "state_Sachsen                   0.007256\n",
       "state_Sachsen-Anhalt            0.004115\n",
       "state_Schleswig-Holstein        0.005812\n",
       "state_Thüringen                 0.007335\n",
       "dtype: float64"
      ]
     },
     "execution_count": 50,
     "metadata": {},
     "output_type": "execute_result"
    }
   ],
   "source": [
    "pd.Series(clf.feature_importances_,index=delay_dummy.columns)"
   ]
  },
  {
   "cell_type": "code",
   "execution_count": 51,
   "metadata": {},
   "outputs": [],
   "source": [
    "from sklearn import metrics"
   ]
  },
  {
   "cell_type": "code",
   "execution_count": 52,
   "metadata": {},
   "outputs": [
    {
     "name": "stdout",
     "output_type": "stream",
     "text": [
      "Precision: 0.670543\n",
      "Recall: 0.674781\n",
      "F1: 0.672655\n"
     ]
    }
   ],
   "source": [
    "print(f\"Precision: {metrics.precision_score(y,clf.predict(delay_dummy)):5f}\")\n",
    "print(f\"Recall: {metrics.recall_score(y,clf.predict(delay_dummy)):5f}\")\n",
    "print(f\"F1: {metrics.f1_score(y,clf.predict(delay_dummy)):5f}\")"
   ]
  },
  {
   "cell_type": "code",
   "execution_count": 54,
   "metadata": {},
   "outputs": [
    {
     "data": {
      "image/png": "[encoded data removed]",
      "text/plain": [
       "<Figure size 1440x1080 with 1 Axes>"
      ]
     },
     "metadata": {
      "needs_background": "light"
     },
     "output_type": "display_data"
    }
   ],
   "source": [
    "import matplotlib.pyplot as plt\n",
    "plt.figure(figsize=(20,15))\n",
    "fig = tree.plot_tree(clf,max_depth=2,class_names=[\"False\",\"True\"],filled=True,feature_names=delay_dummy.columns)"
   ]
  }
 ],
 "metadata": {
  "kernelspec": {
   "display_name": "Python 3.7.4 64-bit ('base': conda)",
   "language": "python",
   "name": "python37464bitbaseconda4841bd74195e4398914578314ee45bf3"
  },
  "language_info": {
   "codemirror_mode": {
    "name": "ipython",
    "version": 3
   },
   "file_extension": ".py",
   "mimetype": "text/x-python",
   "name": "python",
   "nbconvert_exporter": "python",
   "pygments_lexer": "ipython3",
   "version": "3.7.4"
  }
 },
 "nbformat": 4,
 "nbformat_minor": 2
}
