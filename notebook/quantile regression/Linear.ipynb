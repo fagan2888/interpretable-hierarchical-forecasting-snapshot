{
 "cells": [
  {
   "cell_type": "markdown",
   "metadata": {},
   "source": [
    "# Quantile Regression with Linear Models"
   ]
  },
  {
   "cell_type": "code",
   "execution_count": 1,
   "metadata": {},
   "outputs": [],
   "source": [
    "import numpy as np"
   ]
  },
  {
   "cell_type": "code",
   "execution_count": 2,
   "metadata": {},
   "outputs": [],
   "source": [
    "from sklearn.base import BaseEstimator, RegressorMixin"
   ]
  },
  {
   "cell_type": "code",
   "execution_count": 3,
   "metadata": {},
   "outputs": [],
   "source": [
    "import statsmodels.formula.api as smf\n",
    "import statsmodels.api as sm"
   ]
  },
  {
   "cell_type": "code",
   "execution_count": 4,
   "metadata": {},
   "outputs": [],
   "source": [
    "class LinearQuantileRegressor(BaseEstimator, RegressorMixin):\n",
    "    \"\"\"\n",
    "    Wrapper for statsmodels Quantile Regression which provides functionality to jointly predict several quantiles.\n",
    "    \n",
    "    An independent model is used for each quantile.\n",
    "    \n",
    "    Parameters\n",
    "    ----------\n",
    "    quantiles : iterable\n",
    "        Quantiles to predict, should be in ascending order.\n",
    "    \"\"\"\n",
    "        \n",
    "    def __init__(self,quantiles):         \n",
    "        self.quantiles = quantiles\n",
    "        \n",
    "    def fit(self, X, y):\n",
    "        y = np.array(y)\n",
    "        X = sm.add_constant(np.array(X)) if X.shape[0]>1 else np.hstack((np.ones((1,1)),X))\n",
    "        mdl = sm.regression.quantile_regression.QuantReg(y, X)\n",
    "        self.models_ = {q:mdl.fit(q) for q in self.quantiles}\n",
    "\n",
    "        return self\n",
    "    \n",
    "    def predict(self, X):\n",
    "        X = sm.add_constant(np.array(X)) if X.shape[0]>1 else np.hstack((np.ones((1,1)),X))\n",
    "        predictions = np.array([m.predict(X) for m in self.models_.values()]).transpose()\n",
    "            \n",
    "        return predictions"
   ]
  },
  {
   "cell_type": "markdown",
   "metadata": {},
   "source": [
    "## Tests"
   ]
  },
  {
   "cell_type": "code",
   "execution_count": 5,
   "metadata": {},
   "outputs": [],
   "source": [
    "if __name__ == '__main__':\n",
    "    import pandas as pd\n",
    "    noro_ts = pd.read_pickle(\"../../data/processed/norovirus-ts.pl\")"
   ]
  },
  {
   "cell_type": "code",
   "execution_count": 6,
   "metadata": {},
   "outputs": [],
   "source": [
    "if __name__ == '__main__':\n",
    "    input_window = 4\n",
    "    forecast_horizon = 1\n",
    "    ts_shifted = pd.concat([noro_ts[[\"Count\"]].shift(i).rename(columns={\"Count\":f\"Count_t-{i}\"}) for i in range(input_window)],axis=1)\n",
    "    ts_shifted[\"target\"] = ts_shifted[\"Count_t-0\"].shift(-forecast_horizon)\n",
    "    ts_shifted = ts_shifted.dropna()\n",
    "    X = ts_shifted.drop(\"target\",axis=1)\n",
    "    y = ts_shifted[\"target\"]"
   ]
  },
  {
   "cell_type": "code",
   "execution_count": 7,
   "metadata": {},
   "outputs": [
    {
     "name": "stdout",
     "output_type": "stream",
     "text": [
      "334.7193047230481\n"
     ]
    }
   ],
   "source": [
    "if __name__ == '__main__':\n",
    "    lqr = LinearQuantileRegressor(quantiles=[0.05,0.5,0.95])\n",
    "    lqr = lqr.fit(X,y)\n",
    "    y_hat = lqr.predict(X)\n",
    "    # Compute in-sample MAE for median\n",
    "    print(np.mean(np.abs(y_hat[:,1]-y)))"
   ]
  }
 ],
 "metadata": {
  "kernelspec": {
   "display_name": "Python 3.7.4 64-bit ('base': conda)",
   "language": "python",
   "name": "python37464bitbaseconda4841bd74195e4398914578314ee45bf3"
  },
  "language_info": {
   "codemirror_mode": {
    "name": "ipython",
    "version": 3
   },
   "file_extension": ".py",
   "mimetype": "text/x-python",
   "name": "python",
   "nbconvert_exporter": "python",
   "pygments_lexer": "ipython3",
   "version": "3.7.4"
  }
 },
 "nbformat": 4,
 "nbformat_minor": 2
}
